{
 "cells": [
  {
   "cell_type": "markdown",
   "id": "aacc7065",
   "metadata": {},
   "source": [
    "# Question 5\n",
    "Write a recursive method binary() that takes a non-negative integer n and prints the binary representation of integer n."
   ]
  },
  {
   "cell_type": "code",
   "execution_count": 20,
   "id": "c707ee78",
   "metadata": {},
   "outputs": [],
   "source": [
    "def binary(n):\n",
    "    if n>=0:         #Checking if the input from the user is a non-negative integer\n",
    "        \n",
    "        #Base Step\n",
    "        if n==0 or n==1:\n",
    "            print (n)\n",
    "   \n",
    "        #Recursive step\n",
    "        else:\n",
    "            mod = n%2\n",
    "            print (mod, end=\"\")\n",
    "            n = n//2\n",
    "            binary(n)\n",
    "    else:\n",
    "        print (\"Value Entered is not Valid Format - Input is Negative value\")"
   ]
  },
  {
   "cell_type": "code",
   "execution_count": 18,
   "id": "1f4383ae",
   "metadata": {},
   "outputs": [
    {
     "name": "stdout",
     "output_type": "stream",
     "text": [
      "0\n",
      "1\n",
      "11\n",
      "1001\n",
      "Value Entered is not Valid Format - Input is Negative value\n"
     ]
    }
   ],
   "source": [
    "binary(0)\n",
    "binary(1)\n",
    "binary(3)\n",
    "binary(9)\n",
    "binary(-1)"
   ]
  }
 ],
 "metadata": {
  "kernelspec": {
   "display_name": "Python 3 (ipykernel)",
   "language": "python",
   "name": "python3"
  },
  "language_info": {
   "codemirror_mode": {
    "name": "ipython",
    "version": 3
   },
   "file_extension": ".py",
   "mimetype": "text/x-python",
   "name": "python",
   "nbconvert_exporter": "python",
   "pygments_lexer": "ipython3",
   "version": "3.9.7"
  }
 },
 "nbformat": 4,
 "nbformat_minor": 5
}
