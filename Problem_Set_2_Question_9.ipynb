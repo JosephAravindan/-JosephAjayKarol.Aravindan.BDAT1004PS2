{
 "cells": [
  {
   "cell_type": "markdown",
   "id": "11ffa067",
   "metadata": {},
   "source": [
    "# Question 9\n",
    ". Suppose list words is defined as follows:\n",
    ">>> words = ['The', 'quick', 'brown', 'fox', 'jumps', 'over','the', 'lazy', 'dog']\n",
    "\n",
    "Write list comprehension expressions that use list words and generate the following\n",
    "lists:\n",
    "a) ['THE', 'QUICK', 'BROWN', 'FOX', 'JUMPS', 'OVER', 'THE','LAZY', 'DOG']\n",
    "\n",
    "b) ['the', 'quick', 'brown', 'fox', 'jumps', 'over', 'the','lazy', 'dog']\n",
    "\n",
    "c) [3, 5, 5, 3, 5, 4, 3, 4, 3] (the list of lengths of words in list words).\n",
    "\n",
    "d) [['THE', 'the', 3], ['QUICK', 'quick', 5], ['BROWN','brown', 5], ['FOX', 'fox', 3], ['JUMPS', 'jumps', 5],\n",
    "['OVER', 'over', 4], ['THE', 'the', 3], ['LAZY', 'lazy',4], ['DOG', 'dog', 3]] \n",
    "(the list containing a list for every word of list words, where each list contains the word in uppercase and lowercase and the\n",
    "length of the word.)\n",
    "\n",
    "e) ['The', 'quick', 'brown', 'fox', 'jumps', 'over', 'the','lazy', 'dog'] (the list of words in list words containing 4 or more\n",
    "characters.)"
   ]
  },
  {
   "cell_type": "code",
   "execution_count": 15,
   "id": "4d061b34",
   "metadata": {},
   "outputs": [
    {
     "name": "stdout",
     "output_type": "stream",
     "text": [
      "Upper case of the words in the given list are :\n",
      "['THE', 'QUICK', 'BROWN', 'FOX', 'JUMPS', 'OVER', 'THE', 'LAZY', 'DOG']\n",
      "\n",
      "\n",
      "Lower case of the words in the given list are :\n",
      "['the', 'quick', 'brown', 'fox', 'jumps', 'over', 'the', 'lazy', 'dog']\n",
      "\n",
      "\n",
      "Length of each words in the given list are :\n",
      "[3, 5, 5, 3, 5, 4, 3, 4, 3]\n",
      "\n",
      "\n",
      "Concatenation of the above 3 results :\n",
      "[['THE', 'the', 3], ['QUICK', 'quick', 5], ['BROWN', 'brown', 5], ['FOX', 'fox', 3], ['JUMPS', 'jumps', 5], ['OVER', 'over', 4], ['THE', 'the', 3], ['LAZY', 'lazy', 4], ['DOG', 'dog', 3]]\n",
      "\n",
      "\n",
      "List of words which have 4 or more charecters are :\n",
      "['quick', 'brown', 'jumps', 'over', 'lazy']\n"
     ]
    }
   ],
   "source": [
    "words = ['The', 'quick', 'brown', 'fox', 'jumps', 'over','the', 'lazy', 'dog']\n",
    "\n",
    "#Upper Case\n",
    "words_upper = [item.upper() for item in words]\n",
    "print (\"Upper case of the words in the given list are :\")\n",
    "print (words_upper)\n",
    "print(\"\\n\")\n",
    "\n",
    "#Lower Case\n",
    "words_lower = [item.lower() for item in words]\n",
    "print (\"Lower case of the words in the given list are :\")\n",
    "print (words_lower)\n",
    "print(\"\\n\")\n",
    "\n",
    "#Length of each words in the given list\n",
    "word_len = [len(item) for item in words]\n",
    "print (\"Length of each words in the given list are :\")\n",
    "print(word_len)\n",
    "print(\"\\n\")\n",
    "\n",
    "#Appending the above 3 ouputs in one list\n",
    "total_list = [[x, y , z] for x, y, z in zip(words_upper,words_lower,word_len)]\n",
    "print (\"Concatenation of the above 3 results :\")\n",
    "print (total_list)\n",
    "print(\"\\n\")\n",
    "\n",
    "#List of words where length of words has 4 or more charecters\n",
    "words4 = []\n",
    "[words4.append(item) for item in words if len(item)>=4]\n",
    "print (\"List of words which have 4 or more charecters are :\")\n",
    "print (words4)"
   ]
  }
 ],
 "metadata": {
  "kernelspec": {
   "display_name": "Python 3 (ipykernel)",
   "language": "python",
   "name": "python3"
  },
  "language_info": {
   "codemirror_mode": {
    "name": "ipython",
    "version": 3
   },
   "file_extension": ".py",
   "mimetype": "text/x-python",
   "name": "python",
   "nbconvert_exporter": "python",
   "pygments_lexer": "ipython3",
   "version": "3.9.7"
  }
 },
 "nbformat": 4,
 "nbformat_minor": 5
}
