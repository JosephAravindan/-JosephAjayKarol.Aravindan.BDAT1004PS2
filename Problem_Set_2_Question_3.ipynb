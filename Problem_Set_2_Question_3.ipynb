{
 "cells": [
  {
   "cell_type": "markdown",
   "id": "c2d4fcf7",
   "metadata": {},
   "source": [
    "# Question 3 - Part 1:\n",
    "Write a class named Marsupial that can be used as shown below:\n",
    ">>> m = Marsupial()\n",
    ">>> m.put_in_pouch('doll')\n",
    ">>> m.put_in_pouch('firetruck')\n",
    ">>> m.put_in_pouch('kitten')\n",
    ">>> m.pouch_contents()\n",
    "['doll', 'firetruck', 'kitten']"
   ]
  },
  {
   "cell_type": "code",
   "execution_count": 2,
   "id": "a0129741",
   "metadata": {},
   "outputs": [],
   "source": [
    "class Marsupial:\n",
    "    \n",
    "    def __init__(self):  \n",
    "        self.container = []\n",
    "        \n",
    "    def put_in_pouch(self,word):\n",
    "        'Adds the word into the list'\n",
    "        self.word = word\n",
    "        self.container.append(word)\n",
    "        \n",
    "    def pouch_contents(self):\n",
    "        'Returns the list'\n",
    "        return self.container"
   ]
  },
  {
   "cell_type": "code",
   "execution_count": 3,
   "id": "8e2521fc",
   "metadata": {},
   "outputs": [
    {
     "data": {
      "text/plain": [
       "['doll', 'firetruck', 'kitten']"
      ]
     },
     "execution_count": 3,
     "metadata": {},
     "output_type": "execute_result"
    }
   ],
   "source": [
    "m = Marsupial()\n",
    "m.put_in_pouch('doll')\n",
    "m.put_in_pouch('firetruck')\n",
    "m.put_in_pouch('kitten')\n",
    "m.pouch_contents()"
   ]
  },
  {
   "cell_type": "markdown",
   "id": "9005ead1",
   "metadata": {},
   "source": [
    "# Question 3 - Part 2:\n",
    "\n",
    "Now write a class named Kangaroo as a subclass of Marsupial that inherits all the\n",
    "attributes of Marsupial and also:\n",
    "\n",
    "    a. extends the Marsupial __init__ constructor to take, as input, the\n",
    "       coordinates x and y of the Kangaroo object,\n",
    "    \n",
    "    b. supports method jump that takes number values dx and dy as input and\n",
    "       moves the kangaroo by dx units along the x-axis and by dy units along the yaxis, and\n",
    "\n",
    "    c. overloads the __str__ operator so it behaves as shown below."
   ]
  },
  {
   "cell_type": "code",
   "execution_count": 4,
   "id": "76fd990c",
   "metadata": {},
   "outputs": [],
   "source": [
    "class Kangaroo(Marsupial):\n",
    "\n",
    "#Takes the input from user as the coordinates x and y of the Kangaroo'\n",
    "    def __init__(self,xcoord,ycoord):\n",
    "        Marsupial.__init__(self)\n",
    "        self.x = xcoord\n",
    "        self.y = ycoord\n",
    "\n",
    "#Takes the input and moves the kangaroo by dx units along the x-axis and by dy units along the y-axis           \n",
    "    def jump(self,dxcoord,dycoord):\n",
    "        self.x += dxcoord\n",
    "        self.y += dycoord\n",
    "    \n",
    "    def __str__(self):\n",
    "        return 'I am a Kangaroo located at coordinates ({}, {}).'.format(self.x,self.y)"
   ]
  },
  {
   "cell_type": "code",
   "execution_count": 5,
   "id": "fa3663ed",
   "metadata": {},
   "outputs": [
    {
     "name": "stdout",
     "output_type": "stream",
     "text": [
      "I am a Kangaroo located at coordinates (0, 0).\n"
     ]
    }
   ],
   "source": [
    "k = Kangaroo(0,0)\n",
    "print(k)"
   ]
  },
  {
   "cell_type": "code",
   "execution_count": 6,
   "id": "7bcdf62c",
   "metadata": {},
   "outputs": [
    {
     "data": {
      "text/plain": [
       "['doll', 'firetruck', 'kitten']"
      ]
     },
     "execution_count": 6,
     "metadata": {},
     "output_type": "execute_result"
    }
   ],
   "source": [
    "k.put_in_pouch('doll')\n",
    "k.put_in_pouch('firetruck')\n",
    "k.put_in_pouch('kitten')\n",
    "k.pouch_contents()"
   ]
  },
  {
   "cell_type": "code",
   "execution_count": 7,
   "id": "461280ba",
   "metadata": {},
   "outputs": [
    {
     "name": "stdout",
     "output_type": "stream",
     "text": [
      "I am a Kangaroo located at coordinates (3, 0).\n"
     ]
    }
   ],
   "source": [
    "k.jump(1,0)\n",
    "k.jump(1,0)\n",
    "k.jump(1,0)\n",
    "print(k)"
   ]
  }
 ],
 "metadata": {
  "kernelspec": {
   "display_name": "Python 3 (ipykernel)",
   "language": "python",
   "name": "python3"
  },
  "language_info": {
   "codemirror_mode": {
    "name": "ipython",
    "version": 3
   },
   "file_extension": ".py",
   "mimetype": "text/x-python",
   "name": "python",
   "nbconvert_exporter": "python",
   "pygments_lexer": "ipython3",
   "version": "3.9.7"
  }
 },
 "nbformat": 4,
 "nbformat_minor": 5
}
