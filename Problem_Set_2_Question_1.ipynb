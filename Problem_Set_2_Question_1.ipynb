{
 "cells": [
  {
   "cell_type": "markdown",
   "id": "55824d6a",
   "metadata": {},
   "source": [
    "# Question 1 : \n",
    "Consider the following Python module:\n",
    "a = 0\n",
    "def b():\n",
    " global a\n",
    " a = c(a)\n",
    "def c(a):\n",
    " return a + 2\n",
    "After importing the module into the interpreter, you execute:\n",
    "b()\n",
    "b()\n",
    "b()\n",
    "a\n",
    "?\n",
    "What value is displayed when the last expression (a) is evaluated? Explain your\n",
    "answer by indicating what happens in every executed statement."
   ]
  },
  {
   "cell_type": "code",
   "execution_count": 2,
   "id": "2cd0120f",
   "metadata": {},
   "outputs": [
    {
     "data": {
      "text/plain": [
       "6"
      ]
     },
     "execution_count": 2,
     "metadata": {},
     "output_type": "execute_result"
    }
   ],
   "source": [
    "a=0\n",
    "def b():\n",
    "    global a\n",
    "    a = c(a)\n",
    "def c(a):\n",
    "    return a + 2\n",
    "\n",
    "b()\n",
    "b()\n",
    "b()\n",
    "a"
   ]
  },
  {
   "cell_type": "markdown",
   "id": "1727b808",
   "metadata": {},
   "source": [
    "The output value is displayed as 6. The reason is as follows\n",
    "\n",
    "Functions used :\n",
    "\n",
    "The function b() takes variable a and then refers to execute function c(), taking a as the input. \n",
    "The result of running c(a) would become the new value assigned to a.\n",
    "Function c(a) adds 2 in the value of a.\n",
    "\n",
    "Code when executed :\n",
    "\n",
    "When the function b() is executed each time, it basically adds 2 in the current value of a and assigns it as the new value of a.\n",
    "\n",
    "Lets say by executing the function b(), for the first time, took a as 0 and thus, added 0 and 2 together, \n",
    "resulting in 2 as the new value of a.\n",
    "\n",
    "Executing the function b(), for the second time, added 2 and 2 together, resulting in 4 as the new value of a.\n",
    "\n",
    "and executing the function b(), for the third time, added 4 and 2 together, resulting in 6 as the new value of a.\n",
    "\n",
    "Thus, the final output value in a = 6."
   ]
  }
 ],
 "metadata": {
  "kernelspec": {
   "display_name": "Python 3 (ipykernel)",
   "language": "python",
   "name": "python3"
  },
  "language_info": {
   "codemirror_mode": {
    "name": "ipython",
    "version": 3
   },
   "file_extension": ".py",
   "mimetype": "text/x-python",
   "name": "python",
   "nbconvert_exporter": "python",
   "pygments_lexer": "ipython3",
   "version": "3.9.7"
  }
 },
 "nbformat": 4,
 "nbformat_minor": 5
}
