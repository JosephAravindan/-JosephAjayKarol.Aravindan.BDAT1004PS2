{
 "cells": [
  {
   "cell_type": "markdown",
   "id": "35f6b082",
   "metadata": {},
   "source": [
    "# Question 4\n",
    "\n",
    "Write function collatz() that takes a positive integer x as input and prints the\n",
    "Collatz sequence starting at x. A Collatz sequence is obtained by repeatedly applying\n",
    "this rule to the previous number x in the sequence:\n",
    "x = {\n",
    "𝑥/2 𝑖𝑓 𝑥 𝑖𝑠 𝑒𝑣𝑒𝑛\n",
    "3𝑥 + 1 𝑖𝑓 𝑥 𝑖𝑠 𝑜𝑑𝑑\n",
    "Your function should stop when the sequence gets to number 1. Your\n",
    "implementation must be recursive, without any loops."
   ]
  },
  {
   "cell_type": "code",
   "execution_count": 7,
   "id": "a99ae113",
   "metadata": {},
   "outputs": [],
   "source": [
    "def collatz(x):\n",
    "    \n",
    "    \n",
    "    if x>0 and type(x)==int:   #Checks whether the input is a non-negative integer\n",
    "        \n",
    "        if x>1:\n",
    "            if x%2 == 0:\n",
    "                print (int(x))\n",
    "                x = x/2\n",
    "            else:\n",
    "                print (int(x))\n",
    "                x = 3*x + 1\n",
    "            collatz(int(x))\n",
    "        \n",
    "        else:\n",
    "            print ('1')\n",
    "    else:\n",
    "        print (\"Value Entered is not Valid Format - Input is Negative Integer\")"
   ]
  },
  {
   "cell_type": "code",
   "execution_count": 8,
   "id": "ed5475c4",
   "metadata": {},
   "outputs": [
    {
     "name": "stdout",
     "output_type": "stream",
     "text": [
      "1\n"
     ]
    }
   ],
   "source": [
    "collatz(1)"
   ]
  },
  {
   "cell_type": "code",
   "execution_count": 9,
   "id": "2680d508",
   "metadata": {},
   "outputs": [
    {
     "name": "stdout",
     "output_type": "stream",
     "text": [
      "10\n",
      "5\n",
      "16\n",
      "8\n",
      "4\n",
      "2\n",
      "1\n"
     ]
    }
   ],
   "source": [
    "collatz(10)"
   ]
  },
  {
   "cell_type": "code",
   "execution_count": 10,
   "id": "fa706abd",
   "metadata": {},
   "outputs": [
    {
     "name": "stdout",
     "output_type": "stream",
     "text": [
      "Value Entered is not Valid Format - Input is Negative Integer\n"
     ]
    }
   ],
   "source": [
    "collatz(-10)"
   ]
  },
  {
   "cell_type": "code",
   "execution_count": 12,
   "id": "641f69fa",
   "metadata": {},
   "outputs": [
    {
     "name": "stdout",
     "output_type": "stream",
     "text": [
      "12\n",
      "6\n",
      "3\n",
      "10\n",
      "5\n",
      "16\n",
      "8\n",
      "4\n",
      "2\n",
      "1\n"
     ]
    }
   ],
   "source": [
    "collatz(12)"
   ]
  },
  {
   "cell_type": "code",
   "execution_count": null,
   "id": "f120a5fb",
   "metadata": {},
   "outputs": [],
   "source": []
  }
 ],
 "metadata": {
  "kernelspec": {
   "display_name": "Python 3 (ipykernel)",
   "language": "python",
   "name": "python3"
  },
  "language_info": {
   "codemirror_mode": {
    "name": "ipython",
    "version": 3
   },
   "file_extension": ".py",
   "mimetype": "text/x-python",
   "name": "python",
   "nbconvert_exporter": "python",
   "pygments_lexer": "ipython3",
   "version": "3.9.7"
  }
 },
 "nbformat": 4,
 "nbformat_minor": 5
}
